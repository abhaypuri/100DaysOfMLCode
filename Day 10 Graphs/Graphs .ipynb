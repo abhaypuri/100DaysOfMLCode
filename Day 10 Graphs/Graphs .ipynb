{
 "cells": [
  {
   "cell_type": "markdown",
   "metadata": {},
   "source": [
    "### Graph Representation"
   ]
  },
  {
   "cell_type": "code",
   "execution_count": 1,
   "metadata": {},
   "outputs": [],
   "source": [
    "nodes={\"A\",\"B\",\"C\",\"D\"}\n",
    "edges={(\"A\",\"B\"),(\"B\",\"C\"),(\"C\",\"A\"),(\"C\",\"D\")}"
   ]
  },
  {
   "cell_type": "code",
   "execution_count": 2,
   "metadata": {},
   "outputs": [
    {
     "data": {
      "text/plain": [
       "{'A', 'B', 'C', 'D'}"
      ]
     },
     "execution_count": 2,
     "metadata": {},
     "output_type": "execute_result"
    }
   ],
   "source": [
    "nodes"
   ]
  },
  {
   "cell_type": "code",
   "execution_count": 3,
   "metadata": {},
   "outputs": [
    {
     "data": {
      "text/plain": [
       "{('A', 'B'), ('B', 'C'), ('C', 'A'), ('C', 'D')}"
      ]
     },
     "execution_count": 3,
     "metadata": {},
     "output_type": "execute_result"
    }
   ],
   "source": [
    "edges"
   ]
  },
  {
   "cell_type": "markdown",
   "metadata": {},
   "source": [
    "### Adjacency List"
   ]
  },
  {
   "cell_type": "code",
   "execution_count": 4,
   "metadata": {},
   "outputs": [
    {
     "name": "stdout",
     "output_type": "stream",
     "text": [
      "['A', 'B', 'C', 'D']\n"
     ]
    }
   ],
   "source": [
    "nodes=[\"A\",\"B\",\"C\",\"D\"]\n",
    "print(nodes)"
   ]
  },
  {
   "cell_type": "code",
   "execution_count": 5,
   "metadata": {},
   "outputs": [
    {
     "name": "stdout",
     "output_type": "stream",
     "text": [
      "{'A': 0, 'B': 1, 'C': 2, 'D': 3}\n"
     ]
    }
   ],
   "source": [
    "nodes_dict={\"A\":0,\"B\":1,\"C\":2,\"D\":3} #Create dictionary of nodes to indices\n",
    "nodes_dict={k:i for i,k in enumerate(nodes)} #same as above,done programmatically\n",
    "print(nodes_dict)"
   ]
  },
  {
   "cell_type": "code",
   "execution_count": 6,
   "metadata": {},
   "outputs": [],
   "source": [
    "adj_list=[[1],[2],[0,3],[]]"
   ]
  },
  {
   "cell_type": "code",
   "execution_count": 7,
   "metadata": {},
   "outputs": [
    {
     "data": {
      "text/plain": [
       "[[1], [2], [0, 3], []]"
      ]
     },
     "execution_count": 7,
     "metadata": {},
     "output_type": "execute_result"
    }
   ],
   "source": [
    "adj_list"
   ]
  },
  {
   "cell_type": "markdown",
   "metadata": {},
   "source": [
    "### Page Rank"
   ]
  },
  {
   "cell_type": "code",
   "execution_count": 12,
   "metadata": {},
   "outputs": [],
   "source": [
    "import numpy as np"
   ]
  },
  {
   "cell_type": "code",
   "execution_count": 17,
   "metadata": {},
   "outputs": [
    {
     "name": "stdout",
     "output_type": "stream",
     "text": [
      "[0.21260745 0.26418338 0.31060172 0.21260745]\n"
     ]
    }
   ],
   "source": [
    "#𝐴:=  adjacency matrix of 𝐺\n",
    "#𝑃:= replace all-zero columns of 𝐴 with all-ones, and normalize columns\n",
    "#𝑃̂ :=(1−𝑑)𝑃+𝑑∣𝑉∣(11𝑇)\n",
    "#𝑥:=1∣𝑉∣1\n",
    "#Repeat 𝑇 times:\n",
    "#𝑥:=𝑃̂ 𝑥\n",
    "#Page Rank Algorithm\n",
    "A=np.array([[0,0,1,0],[1,0,0,0],[0,1,0,0],[0,0,1,0]])\n",
    "d=0.1\n",
    "T=1000\n",
    "P=A.copy()\n",
    "P[:,P.sum(0)==0]=1\n",
    "P=P/(P.sum(0)+1e-10)\n",
    "Phat=(1-d)*P+d/A.shape[0]*np.ones(A.shape)\n",
    "x = np.ones(A.shape[0])/A.shape[0]\n",
    "for _ in range(T):\n",
    "    x = Phat @ x\n",
    "    x = x/x.sum()\n",
    "print(x)"
   ]
  },
  {
   "cell_type": "markdown",
   "metadata": {},
   "source": [
    "### Creating Graphs"
   ]
  },
  {
   "cell_type": "code",
   "execution_count": 18,
   "metadata": {},
   "outputs": [],
   "source": [
    "import networkx as nx"
   ]
  },
  {
   "cell_type": "code",
   "execution_count": 19,
   "metadata": {},
   "outputs": [],
   "source": [
    "G_undirected=nx.Graph() #Creating undirected graph\n",
    "G_directed=nx.DiGraph()  #Creating directed graph"
   ]
  },
  {
   "cell_type": "code",
   "execution_count": 20,
   "metadata": {},
   "outputs": [
    {
     "name": "stdout",
     "output_type": "stream",
     "text": [
      "['A', 'B', 'C']\n"
     ]
    }
   ],
   "source": [
    "G=nx.Graph()\n",
    "G.add_node(\"A\")  #Adding Nodes\n",
    "G.add_nodes_from([\"B\",\"C\"])\n",
    "print(G.nodes())"
   ]
  },
  {
   "cell_type": "code",
   "execution_count": 21,
   "metadata": {},
   "outputs": [
    {
     "name": "stdout",
     "output_type": "stream",
     "text": [
      "['B']\n"
     ]
    }
   ],
   "source": [
    "G.remove_nodes_from([\"A\",\"C\"])\n",
    "print(G.nodes())"
   ]
  },
  {
   "cell_type": "code",
   "execution_count": 22,
   "metadata": {},
   "outputs": [
    {
     "name": "stdout",
     "output_type": "stream",
     "text": [
      "['A', 'C']\n"
     ]
    }
   ],
   "source": [
    "G.add_nodes_from([\"A\",\"C\"])\n",
    "G.remove_node(\"B\")\n",
    "print(G.nodes())"
   ]
  },
  {
   "cell_type": "code",
   "execution_count": 24,
   "metadata": {},
   "outputs": [
    {
     "name": "stdout",
     "output_type": "stream",
     "text": [
      "['A', 'B', 'C', 'D']\n",
      "[('A', 'B'), ('B', 'C'), ('C', 'A'), ('C', 'D')]\n"
     ]
    }
   ],
   "source": [
    "G=nx.DiGraph()\n",
    "G.add_edges_from([(\"A\",\"B\"),(\"B\",\"C\"),(\"C\",\"A\"),(\"C\",\"D\")])\n",
    "print(G.nodes())\n",
    "print(G.edges())"
   ]
  },
  {
   "cell_type": "code",
   "execution_count": 25,
   "metadata": {},
   "outputs": [
    {
     "name": "stdout",
     "output_type": "stream",
     "text": [
      "[('B', 'C'), ('C', 'A'), ('C', 'D')]\n"
     ]
    }
   ],
   "source": [
    "G.remove_edge(\"A\",\"B\")\n",
    "print(G.edges())"
   ]
  },
  {
   "cell_type": "code",
   "execution_count": 27,
   "metadata": {},
   "outputs": [
    {
     "name": "stdout",
     "output_type": "stream",
     "text": [
      "[('C', 'A'), ('C', 'D')]\n"
     ]
    }
   ],
   "source": [
    "G.remove_edges_from([(\"A\",\"B\"),(\"B\",\"C\")])\n",
    "print(G.edges())"
   ]
  },
  {
   "cell_type": "code",
   "execution_count": 28,
   "metadata": {},
   "outputs": [
    {
     "name": "stdout",
     "output_type": "stream",
     "text": [
      "[('C', 'D')]\n"
     ]
    }
   ],
   "source": [
    "G.remove_node(\"A\")\n",
    "print(G.edges())"
   ]
  },
  {
   "cell_type": "code",
   "execution_count": 29,
   "metadata": {},
   "outputs": [],
   "source": [
    "G=nx.DiGraph()\n",
    "G.add_edge(\"A\",\"B\",weight=1.0)\n",
    "G.add_edges_from([(\"A\",\"B\"),(\"B\",\"C\"),(\"C\",\"D\"),(\"C\",\"A\")],weight=4.0)"
   ]
  },
  {
   "cell_type": "code",
   "execution_count": 30,
   "metadata": {},
   "outputs": [
    {
     "name": "stdout",
     "output_type": "stream",
     "text": [
      "[('A', 'B'), ('B', 'C'), ('C', 'D'), ('C', 'A')]\n"
     ]
    }
   ],
   "source": [
    "print(G.edges())"
   ]
  },
  {
   "cell_type": "markdown",
   "metadata": {},
   "source": [
    "### Internal Representations and node/edge data"
   ]
  },
  {
   "cell_type": "code",
   "execution_count": 31,
   "metadata": {},
   "outputs": [
    {
     "name": "stdout",
     "output_type": "stream",
     "text": [
      "{'A': {}, 'D': {}}\n"
     ]
    }
   ],
   "source": [
    "G=nx.DiGraph()\n",
    "G.add_edges_from([(\"A\",\"B\"),(\"B\",\"C\"),(\"C\",\"A\"),(\"C\",\"D\")])\n",
    "print(G[\"C\"])"
   ]
  },
  {
   "cell_type": "code",
   "execution_count": 32,
   "metadata": {},
   "outputs": [
    {
     "name": "stdout",
     "output_type": "stream",
     "text": [
      "{'color': 'red', 'weight': 1.0}\n"
     ]
    }
   ],
   "source": [
    "G[\"A\"][\"B\"][\"color\"]=\"red\"\n",
    "G[\"A\"][\"B\"][\"weight\"]=1.0\n",
    "print(G[\"A\"][\"B\"])"
   ]
  },
  {
   "cell_type": "code",
   "execution_count": 33,
   "metadata": {},
   "outputs": [
    {
     "name": "stdout",
     "output_type": "stream",
     "text": [
      "{'color': 'blue'}\n"
     ]
    }
   ],
   "source": [
    "G.node[\"A\"][\"color\"]=\"blue\"\n",
    "print(G.node[\"A\"])"
   ]
  },
  {
   "cell_type": "code",
   "execution_count": 34,
   "metadata": {},
   "outputs": [
    {
     "name": "stdout",
     "output_type": "stream",
     "text": [
      "['A', 'B', 'C', 'D']\n",
      "[('A', 'B'), ('B', 'C'), ('C', 'A'), ('C', 'D')]\n"
     ]
    }
   ],
   "source": [
    "print(G.nodes())\n",
    "print(G.edges())"
   ]
  },
  {
   "cell_type": "code",
   "execution_count": 35,
   "metadata": {},
   "outputs": [
    {
     "name": "stdout",
     "output_type": "stream",
     "text": [
      "[('A', {'color': 'blue'}), ('B', {}), ('C', {}), ('D', {})]\n",
      "[('A', 'B', {'color': 'red', 'weight': 1.0}), ('B', 'C', {}), ('C', 'A', {}), ('C', 'D', {})]\n"
     ]
    }
   ],
   "source": [
    "print(G.nodes(data=True))  #Returning data\n",
    "print(G.edges(data=True))"
   ]
  },
  {
   "cell_type": "markdown",
   "metadata": {},
   "source": [
    "### Drawing Graphs"
   ]
  },
  {
   "cell_type": "code",
   "execution_count": 37,
   "metadata": {},
   "outputs": [
    {
     "data": {
      "image/png": "[encoded data removed]",
      "text/plain": [
       "<Figure size 432x288 with 1 Axes>"
      ]
     },
     "metadata": {},
     "output_type": "display_data"
    }
   ],
   "source": [
    "G = nx.DiGraph()\n",
    "G.add_edges_from([(\"A\",\"B\"), (\"B\",\"C\"), (\"C\",\"A\"), (\"C\",\"D\")])\n",
    "nx.draw(G, with_labels=True)"
   ]
  },
  {
   "cell_type": "markdown",
   "metadata": {},
   "source": [
    "### Graph Algorithms"
   ]
  },
  {
   "cell_type": "code",
   "execution_count": 39,
   "metadata": {},
   "outputs": [],
   "source": [
    "%matplotlib inline\n",
    "%config InlineBackend.figure_format = 'svg'\n"
   ]
  },
  {
   "cell_type": "code",
   "execution_count": 42,
   "metadata": {},
   "outputs": [
    {
     "name": "stdout",
     "output_type": "stream",
     "text": [
      "{'A': 0, 'B': 1, 'C': 1, 'D': 2}\n",
      "{'A': ['A'], 'B': ['A', 'B'], 'C': ['A', 'C'], 'D': ['A', 'C', 'D']}\n"
     ]
    }
   ],
   "source": [
    "G = nx.Graph()\n",
    "G.add_edges_from([(\"A\",\"B\"), (\"B\",\"C\"), (\"C\",\"A\"), (\"C\",\"D\")])\n",
    "print(nx.shortest_path_length(G, source=\"A\"))\n",
    "print(nx.shortest_path(G, source=\"A\"))"
   ]
  },
  {
   "cell_type": "code",
   "execution_count": 43,
   "metadata": {},
   "outputs": [
    {
     "data": {
      "text/plain": [
       "{'A': 0.2126075277037968,\n",
       " 'B': 0.2641838185655828,\n",
       " 'C': 0.31060112602682377,\n",
       " 'D': 0.2126075277037968}"
      ]
     },
     "execution_count": 43,
     "metadata": {},
     "output_type": "execute_result"
    }
   ],
   "source": [
    "#The PageRank implementation takes an alpha parameters which is  1−𝑑  is our notation\n",
    "G = nx.DiGraph()\n",
    "G.add_edges_from([(\"A\",\"B\"), (\"B\",\"C\"), (\"C\",\"A\"), (\"C\",\"D\")])\n",
    "nx.pagerank(G, alpha=0.9) "
   ]
  },
  {
   "cell_type": "code",
   "execution_count": 44,
   "metadata": {},
   "outputs": [
    {
     "data": {
      "text/plain": [
       "[({1, 2, 3, 4, 5, 6, 7}, {8, 9, 10, 11, 12, 13, 14}),\n",
       " ({1, 2, 3}, {4, 5, 6, 7}, {8, 9, 10, 11, 12, 13, 14}),\n",
       " ({1, 2, 3}, {4, 5, 6, 7}, {9, 10, 11}, {8, 12, 13, 14}),\n",
       " ({1, 2, 3}, {4, 5, 6}, {9, 10, 11}, {8, 12, 13, 14}, {7}),\n",
       " ({1, 2, 3}, {4, 5, 6}, {9, 10, 11}, {12, 13, 14}, {7}, {8}),\n",
       " ({1}, {2, 3}, {4, 5, 6}, {9, 10, 11}, {12, 13, 14}, {7}, {8}),\n",
       " ({1}, {2}, {3}, {4, 5, 6}, {9, 10, 11}, {12, 13, 14}, {7}, {8}),\n",
       " ({1}, {2}, {3}, {4}, {5, 6}, {9, 10, 11}, {12, 13, 14}, {7}, {8}),\n",
       " ({1}, {2}, {3}, {4}, {5}, {6}, {9, 10, 11}, {12, 13, 14}, {7}, {8}),\n",
       " ({1}, {2}, {3}, {4}, {5}, {6}, {9}, {10, 11}, {12, 13, 14}, {7}, {8}),\n",
       " ({1}, {2}, {3}, {4}, {5}, {6}, {9}, {10}, {11}, {12, 13, 14}, {7}, {8}),\n",
       " ({1}, {2}, {3}, {4}, {5}, {6}, {9}, {10}, {11}, {12}, {13, 14}, {7}, {8}),\n",
       " ({1}, {2}, {3}, {4}, {5}, {6}, {9}, {10}, {11}, {12}, {13}, {14}, {7}, {8})]"
      ]
     },
     "execution_count": 44,
     "metadata": {},
     "output_type": "execute_result"
    }
   ],
   "source": [
    "#Girvan-Newman returns the dendrogram as a sequence of successive breakdowns of the nodes\n",
    "G = nx.Graph()\n",
    "G.add_edges_from([(1,2), (1,3), (2,3), (4,5), (4,6), (5,6), \n",
    "                  (9,10), (9,11), (10,11), (12,13), (12,14), (13,14),\n",
    "                  (3,7), (6,7), (7,8), (8,9), (8,12)])\n",
    "communities = nx.community.girvan_newman(G)\n",
    "list(communities)"
   ]
  },
  {
   "cell_type": "code",
   "execution_count": null,
   "metadata": {},
   "outputs": [],
   "source": []
  }
 ],
 "metadata": {
  "kernelspec": {
   "display_name": "Python 3",
   "language": "python",
   "name": "python3"
  },
  "language_info": {
   "codemirror_mode": {
    "name": "ipython",
    "version": 3
   },
   "file_extension": ".py",
   "mimetype": "text/x-python",
   "name": "python",
   "nbconvert_exporter": "python",
   "pygments_lexer": "ipython3",
   "version": "3.6.5"
  }
 },
 "nbformat": 4,
 "nbformat_minor": 2
}
